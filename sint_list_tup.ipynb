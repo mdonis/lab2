{
 "cells": [
  {
   "cell_type": "markdown",
   "metadata": {},
   "source": [
    "# Parte #1 (Programación y Sintaxis)"
   ]
  },
  {
   "cell_type": "markdown",
   "metadata": {},
   "source": [
    "##### 1. Haga un programa en Python que reciba de parámetro un número de segundos y que despliegue en pantalla, las horas, minutos y segundos que representan.\n",
    " + Si el número de segundos recibidos fuera: 2743 entonces su programa debería desplegar: Horas: 0, Minutos: 45 , Segundos: 43\n",
    " + Si el número de segundos recibidos fuera 5871: Horas: 1, Minutos: 37 , Segundos: 51  \n",
    " \n",
    "Recuerde manejar excepciones y errores que considere necesarios."
   ]
  },
  {
   "cell_type": "markdown",
   "metadata": {},
   "source": [
    ">**SOLUCIÓN**"
   ]
  },
  {
   "cell_type": "markdown",
   "metadata": {},
   "source": [
    "Resolviendo por medio de conversiones:"
   ]
  },
  {
   "cell_type": "code",
   "execution_count": 27,
   "metadata": {},
   "outputs": [
    {
     "name": "stdin",
     "output_type": "stream",
     "text": [
      "Ingrese el número de segundos a convertir:  5871\n"
     ]
    },
    {
     "name": "stdout",
     "output_type": "stream",
     "text": [
      "Horas: 1\n",
      "Minutos: 37\n",
      "Segundos: 51\n"
     ]
    }
   ],
   "source": [
    "seconds = int(input(\"Ingrese el número de segundos a convertir: \"))\n",
    "hours = seconds*(1/60)*(1/60)\n",
    "print(\"Horas: \" + str(int(hours)))\n",
    "minutes = (hours % 1)*(60/1)\n",
    "print(\"Minutos: \" + str(int(minutes)))\n",
    "seconds = (minutes % 1)*(60/1)\n",
    "print(\"Segundos: \" + str(round(seconds)))"
   ]
  },
  {
   "cell_type": "markdown",
   "metadata": {},
   "source": [
    "Resolviendo por medio de la libreria *datetime*, simplifica en gran manera el trabajo:"
   ]
  },
  {
   "cell_type": "code",
   "execution_count": 29,
   "metadata": {},
   "outputs": [
    {
     "name": "stdin",
     "output_type": "stream",
     "text": [
      "Ingrese el número de segundos a convertir:  5871\n"
     ]
    },
    {
     "data": {
      "text/plain": [
       "'1:37:51'"
      ]
     },
     "execution_count": 29,
     "metadata": {},
     "output_type": "execute_result"
    }
   ],
   "source": [
    "import datetime\n",
    "str(datetime.timedelta(seconds=int(input(\"Ingrese el número de segundos a convertir: \"))))"
   ]
  },
  {
   "cell_type": "markdown",
   "metadata": {},
   "source": [
    "##### 2. Haga una función en Python que dado un número entre 1 y 20. Y un carácter cualquiera despliegue cuatro patrones triangulares.\n",
    "Por ejemplo si el usuario ingresara el número 4 y el símbolo * el programa debería desplegar\n",
    "lo siguiente:"
   ]
  },
  {
   "cell_type": "code",
   "execution_count": 30,
   "metadata": {},
   "outputs": [
    {
     "data": {
      "image/png": "[encoded data removed]",
      "text/plain": [
       "<IPython.core.display.Image object>"
      ]
     },
     "execution_count": 30,
     "metadata": {},
     "output_type": "execute_result"
    }
   ],
   "source": [
    "from IPython import display \n",
    "display.Image(\"./fig1.png\")"
   ]
  },
  {
   "cell_type": "code",
   "execution_count": 37,
   "metadata": {},
   "outputs": [
    {
     "name": "stdin",
     "output_type": "stream",
     "text": [
      "Ingrese número entre 1 y 20:  2\n",
      "Ingrese un símbolo:  *\n"
     ]
    },
    {
     "name": "stdout",
     "output_type": "stream",
     "text": [
      "2\n"
     ]
    }
   ],
   "source": []
  },
  {
   "cell_type": "code",
   "execution_count": 78,
   "metadata": {},
   "outputs": [
    {
     "name": "stdin",
     "output_type": "stream",
     "text": [
      "Ingrese número entre 1 y 20:  10\n",
      "Ingrese un símbolo:  -*\n"
     ]
    },
    {
     "name": "stdout",
     "output_type": "stream",
     "text": [
      "-*           -*-*-*-*-*-*-*-*-*-*          -*-*-*-*-*-*-*-*-*-*           -*\n",
      "-*-*           -*-*-*-*-*-*-*-*-*          -*-*-*-*-*-*-*-*-*           -*-*\n",
      "-*-*-*           -*-*-*-*-*-*-*-*          -*-*-*-*-*-*-*-*           -*-*-*\n",
      "-*-*-*-*           -*-*-*-*-*-*-*          -*-*-*-*-*-*-*           -*-*-*-*\n",
      "-*-*-*-*-*           -*-*-*-*-*-*          -*-*-*-*-*-*           -*-*-*-*-*\n",
      "-*-*-*-*-*-*           -*-*-*-*-*          -*-*-*-*-*           -*-*-*-*-*-*\n",
      "-*-*-*-*-*-*-*           -*-*-*-*          -*-*-*-*           -*-*-*-*-*-*-*\n",
      "-*-*-*-*-*-*-*-*           -*-*-*          -*-*-*           -*-*-*-*-*-*-*-*\n",
      "-*-*-*-*-*-*-*-*-*           -*-*          -*-*           -*-*-*-*-*-*-*-*-*\n",
      "-*-*-*-*-*-*-*-*-*-*           -*          -*           -*-*-*-*-*-*-*-*-*-*\n"
     ]
    }
   ],
   "source": [
    "# Función\n",
    "def patterns(n):\n",
    "    # i = número de fila hasta llegar a la fila n\n",
    "    for i in range(0, n):\n",
    "        # j = variable iterativa que indica cuántos símbolos se escriben en la fila i\n",
    "        for j in range(0, i+1):\n",
    "            #Impresión del simbolo\n",
    "            print(sym, end = '')\n",
    "        print(e+e*n, end = '')\n",
    "        for j in range(0, n-i):\n",
    "            #Impresión del simbolo\n",
    "            print(sym, end = '')\n",
    "        print(e*n, end = '')\n",
    "        for j in range(0, n-i):\n",
    "            #Impresión del simbolo\n",
    "            print(sym, end = '')\n",
    "        print(e+e*n, end = '')\n",
    "        for j in range(0, i+1):\n",
    "            #Impresión del simbolo\n",
    "            print(sym, end = '')  \n",
    "        # finalizando fila cambiar a la siguiente\n",
    "        print(\"\\r\")\n",
    "\n",
    "e = ' '\n",
    "n = int(input(\"Ingrese número entre 1 y 20: \"))\n",
    "sym = input(\"Ingrese un símbolo: \")\n",
    "if 1 <= n <= 20:\n",
    "    patterns(n)\n",
    "else:\n",
    "    print(\"Fuera de rango\")"
   ]
  },
  {
   "cell_type": "code",
   "execution_count": null,
   "metadata": {},
   "outputs": [],
   "source": []
  }
 ],
 "metadata": {
  "kernelspec": {
   "display_name": "Python 3",
   "language": "python",
   "name": "python3"
  },
  "language_info": {
   "codemirror_mode": {
    "name": "ipython",
    "version": 3
   },
   "file_extension": ".py",
   "mimetype": "text/x-python",
   "name": "python",
   "nbconvert_exporter": "python",
   "pygments_lexer": "ipython3",
   "version": "3.8.5"
  }
 },
 "nbformat": 4,
 "nbformat_minor": 4
}
